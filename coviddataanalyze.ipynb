{
 "cells": [
  {
   "cell_type": "markdown",
   "id": "816a18ab-fba7-4d84-9b06-0d61baaa720b",
   "metadata": {},
   "source": [
    "# <span style=\"color:#0077b6\">  Summary<a name=\"summary_1\"></a></span> \n",
    "\n",
    "The COVID-19 pandemic has had a profound impact on the world, leading to significant changes in our daily lives, economies, and healthcare systems. To gain insights into the dynamics of this global crisis, we conducted a comprehensive data analysis using five diverse datasets: `df_country`, `df_covid`, `df_day`, `df_world`, and `df_fgroup`. In this analysis, we will provide an overview of our findings and key takeaways.\n",
    "\n",
    "# <span style=\"color:#0077b6\">Ask Phase<a name=\"ask_phase_2\"></a></span>\n",
    "\n",
    "### Business Task<a name=\"business_task_2_1\"></a>\n",
    "\n",
    "Our primary business task was to analyze the COVID-19 pandemic's impact, with a focus on understanding how different countries and regions were affected. This analysis aimed to provide insights into:\n",
    "\n",
    "1. The overall spread of COVID-19 worldwide.\n",
    "2. Variations in the number of confirmed, recovered, and deceased cases across countries and regions.\n",
    "3. The relationship between government responses, healthcare infrastructure, and pandemic outcomes.\n",
    "4. Temporal trends, including how the pandemic evolved over time.\n",
    "\n",
    "To accomplish these tasks, we leveraged the five datasets mentioned earlier, each contributing unique dimensions to our analysis.\n",
    "\n",
    "# <span style=\"color:#0077b6\">Prepare Phase<a name=\"prepare_phase_3\"></a></span>\n",
    "\n",
    "\n",
    "### Dataset Used<a name=\"dataset_used_3_1\"></a>\n",
    "\n",
    "1. **df_country**: This dataset contains information about individual countries, including demographics, healthcare infrastructure, and government responses. It provides a broad context for our analysis.\n",
    "\n",
    "2. **df_covid**: This dataset offers daily records of COVID-19 cases, including the number of confirmed, recovered, and deceased cases. It also includes geographical details, enabling us to perform spatial analyses.\n",
    "\n",
    "3. **df_day**: Focusing on daily records, this dataset allows us to track the pandemic's progression over time. It provides valuable insights into temporal trends.\n",
    "\n",
    "4. **df_world**: This dataset aggregates COVID-19 data at the global level, summarizing key metrics for the entire world. It offers a high-level perspective.\n",
    "\n",
    "5. **df_fgroup**: This dataset classifies countries into specific groups, facilitating comparative analyses among countries with similar characteristics.\n",
    "\n",
    "### Accessibility and Privacy of Data<a name=\"accessibility_and_privacy_of_data_3_2\"></a>\n",
    "\n",
    "\n",
    "We ensured that the data used in this analysis adhered to privacy and accessibility guidelines. All datasets were publicly available and did not contain sensitive or personally identifiable information.\n",
    "\n",
    "### Information About Our Dataset<a name=\"information_about_our_dataset_3_3\"></a>\n",
    "\n",
    "\n",
    "Our datasets provided a comprehensive view of the COVID-19 pandemic. They included information on confirmed cases, deaths, recoveries, government responses, and demographic factors. By combining these datasets, we gained a holistic understanding of the pandemic's impact.\n",
    "\n",
    "### Data Organization and Verification<a name=\"data_organization_and_verification_3_4\"></a>\n",
    "\n",
    "\n",
    "We organized and cleaned the datasets to ensure data integrity. This included handling missing values, standardizing date formats, and verifying data consistency. We also conducted exploratory data analysis (EDA) to identify patterns and outliers.\n",
    "\n",
    "### Data Credibility and Integrity<a name=\"data_credibility_and_integrity_3_5\"></a>\n",
    "\n",
    "We considered the credibility of the data sources used. These datasets originated from reputable sources such as health organizations, governments, and research institutions. We also assessed data integrity by cross-referencing information and performing data validation checks.\n",
    "\n",
    "In the next phases of our analysis, we will delve deeper into each dataset, perform statistical analyses, create visualizations, and draw meaningful insights to address our business task effectively. Stay tuned for more detailed findings and visualizations in the subsequent sections of our analysis."
   ]
  },
  {
   "cell_type": "markdown",
   "id": "33b7e6dd-94e5-43f1-b6f8-a6af1a322f5e",
   "metadata": {},
   "source": [
    "The **COVID-19 pandemic** has reshaped the world in unprecedented ways. To better understand the dynamics of this global crisis, we embarked on a comprehensive data analysis journey, harnessing the power of five diverse datasets: **df_country, df_covid, df_day, df_world, and df_fgroup**. In this analysis, we share our insights and findings from this in-depth exploration"
   ]
  },
  {
   "cell_type": "markdown",
   "id": "48abd58c-705c-4263-b9c2-d3913410043c",
   "metadata": {},
   "source": [
    "# <span style=\"color:#0077b6\"> Process phase<a name=\"process_phase_4\"></a></span> "
   ]
  },
  {
   "cell_type": "code",
   "execution_count": 68,
   "id": "6983fab0-4995-480a-b305-1d84b013842a",
   "metadata": {},
   "outputs": [],
   "source": [
    "import pandas as pd\n",
    "import numpy as np\n",
    "import matplotlib.pyplot as plt\n",
    "import seaborn as sns\n",
    "import plotly.graph_objects as go\n",
    "from plotly.subplots import make_subplots\n",
    "from IPython.display import IFrame\n",
    "import plotly.express as px\n",
    "from IPython.display import display\n",
    "import plotly.io as pio\n",
    "pio.templates.default = \"plotly_dark\"\n",
    "from plotly.subplots import make_subplots"
   ]
  },
  {
   "cell_type": "markdown",
   "id": "04cb6fa4-5c66-42e4-9549-9aec5f51a4a1",
   "metadata": {},
   "source": [
    "## Step:1) Reading the data"
   ]
  },
  {
   "cell_type": "code",
   "execution_count": 6,
   "id": "16dc9d36-1c24-4ffc-a9b4-180e05348eca",
   "metadata": {},
   "outputs": [
    {
     "name": "stdout",
     "output_type": "stream",
     "text": [
      "-----------  Province/State Country/Region       Lat       Long        Date  Confirmed  \\\n",
      "0            NaN    Afghanistan  33.93911  67.709953  2020-01-22          0   \n",
      "1            NaN        Albania  41.15330  20.168300  2020-01-22          0   \n",
      "2            NaN        Algeria  28.03390   1.659600  2020-01-22          0   \n",
      "3            NaN        Andorra  42.50630   1.521800  2020-01-22          0   \n",
      "4            NaN         Angola -11.20270  17.873900  2020-01-22          0   \n",
      "\n",
      "   Deaths  Recovered  Active             WHO Region  \n",
      "0       0          0       0  Eastern Mediterranean  \n",
      "1       0          0       0                 Europe  \n",
      "2       0          0       0                 Africa  \n",
      "3       0          0       0                 Europe  \n",
      "4       0          0       0                 Africa  -----------\n",
      "\n",
      "\n",
      "\n",
      "\n",
      "\n",
      "-----------  Country/Region  Confirmed  Deaths  Recovered  Active  New cases  New deaths  \\\n",
      "0    Afghanistan      36263    1269      25198    9796        106          10   \n",
      "1        Albania       4880     144       2745    1991        117           6   \n",
      "2        Algeria      27973    1163      18837    7973        616           8   \n",
      "3        Andorra        907      52        803      52         10           0   \n",
      "4         Angola        950      41        242     667         18           1   \n",
      "\n",
      "   New recovered  Deaths / 100 Cases  Recovered / 100 Cases  \\\n",
      "0             18                3.50                  69.49   \n",
      "1             63                2.95                  56.25   \n",
      "2            749                4.16                  67.34   \n",
      "3              0                5.73                  88.53   \n",
      "4              0                4.32                  25.47   \n",
      "\n",
      "   Deaths / 100 Recovered  Confirmed last week  1 week change  \\\n",
      "0                    5.04                35526            737   \n",
      "1                    5.25                 4171            709   \n",
      "2                    6.17                23691           4282   \n",
      "3                    6.48                  884             23   \n",
      "4                   16.94                  749            201   \n",
      "\n",
      "   1 week % increase             WHO Region  \n",
      "0               2.07  Eastern Mediterranean  \n",
      "1              17.00                 Europe  \n",
      "2              18.07                 Africa  \n",
      "3               2.60                 Europe  \n",
      "4              26.84                 Africa  -----------\n",
      "\n",
      "\n",
      "\n",
      "\n",
      "\n",
      "-----------         Date  Confirmed  Deaths  Recovered  Active  New cases  New deaths  \\\n",
      "0  2020-01-22        555      17         28     510          0           0   \n",
      "1  2020-01-23        654      18         30     606         99           1   \n",
      "2  2020-01-24        941      26         36     879        287           8   \n",
      "3  2020-01-25       1434      42         39    1353        493          16   \n",
      "4  2020-01-26       2118      56         52    2010        684          14   \n",
      "\n",
      "   New recovered  Deaths / 100 Cases  Recovered / 100 Cases  \\\n",
      "0              0                3.06                   5.05   \n",
      "1              2                2.75                   4.59   \n",
      "2              6                2.76                   3.83   \n",
      "3              3                2.93                   2.72   \n",
      "4             13                2.64                   2.46   \n",
      "\n",
      "   Deaths / 100 Recovered  No. of countries  \n",
      "0                   60.71                 6  \n",
      "1                   60.00                 8  \n",
      "2                   72.22                 9  \n",
      "3                  107.69                11  \n",
      "4                  107.69                13  -----------\n",
      "\n",
      "\n",
      "\n",
      "\n",
      "\n",
      "-----------         Date Country/Region  Confirmed  Deaths  Recovered  Active  New cases  \\\n",
      "0  2020-01-22    Afghanistan          0       0          0       0          0   \n",
      "1  2020-01-22        Albania          0       0          0       0          0   \n",
      "2  2020-01-22        Algeria          0       0          0       0          0   \n",
      "3  2020-01-22        Andorra          0       0          0       0          0   \n",
      "4  2020-01-22         Angola          0       0          0       0          0   \n",
      "\n",
      "   New deaths  New recovered             WHO Region  \n",
      "0           0              0  Eastern Mediterranean  \n",
      "1           0              0                 Europe  \n",
      "2           0              0                 Africa  \n",
      "3           0              0                 Europe  \n",
      "4           0              0                 Africa  -----------\n",
      "\n",
      "\n",
      "\n",
      "\n",
      "\n",
      "-----------  Country/Region      Continent    Population  TotalCases  NewCases  \\\n",
      "0            USA  North America  3.311981e+08     5032179       NaN   \n",
      "1         Brazil  South America  2.127107e+08     2917562       NaN   \n",
      "2          India           Asia  1.381345e+09     2025409       NaN   \n",
      "3         Russia         Europe  1.459409e+08      871894       NaN   \n",
      "4   South Africa         Africa  5.938157e+07      538184       NaN   \n",
      "\n",
      "   TotalDeaths  NewDeaths  TotalRecovered  NewRecovered  ActiveCases  \\\n",
      "0     162804.0        NaN       2576668.0           NaN    2292707.0   \n",
      "1      98644.0        NaN       2047660.0           NaN     771258.0   \n",
      "2      41638.0        NaN       1377384.0           NaN     606387.0   \n",
      "3      14606.0        NaN        676357.0           NaN     180931.0   \n",
      "4       9604.0        NaN        387316.0           NaN     141264.0   \n",
      "\n",
      "   Serious,Critical  Tot Cases/1M pop  Deaths/1M pop  TotalTests  \\\n",
      "0           18296.0           15194.0          492.0  63139605.0   \n",
      "1            8318.0           13716.0          464.0  13206188.0   \n",
      "2            8944.0            1466.0           30.0  22149351.0   \n",
      "3            2300.0            5974.0          100.0  29716907.0   \n",
      "4             539.0            9063.0          162.0   3149807.0   \n",
      "\n",
      "   Tests/1M pop      WHO Region  \n",
      "0      190640.0        Americas  \n",
      "1       62085.0        Americas  \n",
      "2       16035.0  South-EastAsia  \n",
      "3      203623.0          Europe  \n",
      "4       53044.0          Africa  -----------\n",
      "\n",
      "\n",
      "\n",
      "\n",
      "\n"
     ]
    }
   ],
   "source": [
    "df_covid = pd.read_csv(\"covid_19_clean_complete.csv\")\n",
    "df_country = pd.read_csv(\"country_wise_latest.csv\")\n",
    "df_day = pd.read_csv(\"day_wise.csv\")\n",
    "df_fgroup = pd.read_csv(\"full_grouped.csv\")\n",
    "df_world = pd.read_csv(\"worldometer_data.csv\")\n",
    "\n",
    "all_dfs = [df_covid, df_country, df_day, df_fgroup, df_world]\n",
    "for df in all_dfs:\n",
    "    print(f'-----------{df.head()}-----------\\n\\n\\n\\n\\n')"
   ]
  },
  {
   "cell_type": "markdown",
   "id": "42b5b2fe-30bb-41f7-be32-531c6adb4824",
   "metadata": {},
   "source": [
    "## Step:2 ) Inspecting the data\n",
    "### Pre-processing\n"
   ]
  },
  {
   "cell_type": "code",
   "execution_count": 10,
   "id": "453c79e9-34d1-4271-a10b-2a9c6b5f49d4",
   "metadata": {},
   "outputs": [
    {
     "data": {
      "text/plain": [
       "(49068, 10)"
      ]
     },
     "execution_count": 10,
     "metadata": {},
     "output_type": "execute_result"
    }
   ],
   "source": [
    "## Inspecting the shape \n",
    "df_covid.shape\n"
   ]
  },
  {
   "cell_type": "code",
   "execution_count": 11,
   "id": "97307fdc-3339-4d44-ba9c-91a68f9022ae",
   "metadata": {},
   "outputs": [
    {
     "name": "stdout",
     "output_type": "stream",
     "text": [
      "<class 'pandas.core.frame.DataFrame'>\n",
      "RangeIndex: 49068 entries, 0 to 49067\n",
      "Data columns (total 10 columns):\n",
      " #   Column          Non-Null Count  Dtype  \n",
      "---  ------          --------------  -----  \n",
      " 0   Province/State  14664 non-null  object \n",
      " 1   Country/Region  49068 non-null  object \n",
      " 2   Lat             49068 non-null  float64\n",
      " 3   Long            49068 non-null  float64\n",
      " 4   Date            49068 non-null  object \n",
      " 5   Confirmed       49068 non-null  int64  \n",
      " 6   Deaths          49068 non-null  int64  \n",
      " 7   Recovered       49068 non-null  int64  \n",
      " 8   Active          49068 non-null  int64  \n",
      " 9   WHO Region      49068 non-null  object \n",
      "dtypes: float64(2), int64(4), object(4)\n",
      "memory usage: 3.7+ MB\n"
     ]
    }
   ],
   "source": [
    "df_covid.info()"
   ]
  },
  {
   "cell_type": "code",
   "execution_count": 12,
   "id": "3181804c-dee1-4acc-8d21-a49d09ecdbae",
   "metadata": {},
   "outputs": [
    {
     "data": {
      "text/html": [
       "<div>\n",
       "<style scoped>\n",
       "    .dataframe tbody tr th:only-of-type {\n",
       "        vertical-align: middle;\n",
       "    }\n",
       "\n",
       "    .dataframe tbody tr th {\n",
       "        vertical-align: top;\n",
       "    }\n",
       "\n",
       "    .dataframe thead th {\n",
       "        text-align: right;\n",
       "    }\n",
       "</style>\n",
       "<table border=\"1\" class=\"dataframe\">\n",
       "  <thead>\n",
       "    <tr style=\"text-align: right;\">\n",
       "      <th></th>\n",
       "      <th>Lat</th>\n",
       "      <th>Long</th>\n",
       "      <th>Confirmed</th>\n",
       "      <th>Deaths</th>\n",
       "      <th>Recovered</th>\n",
       "      <th>Active</th>\n",
       "    </tr>\n",
       "  </thead>\n",
       "  <tbody>\n",
       "    <tr>\n",
       "      <th>count</th>\n",
       "      <td>49068.000000</td>\n",
       "      <td>49068.000000</td>\n",
       "      <td>4.906800e+04</td>\n",
       "      <td>49068.000000</td>\n",
       "      <td>4.906800e+04</td>\n",
       "      <td>4.906800e+04</td>\n",
       "    </tr>\n",
       "    <tr>\n",
       "      <th>mean</th>\n",
       "      <td>21.433730</td>\n",
       "      <td>23.528236</td>\n",
       "      <td>1.688490e+04</td>\n",
       "      <td>884.179160</td>\n",
       "      <td>7.915713e+03</td>\n",
       "      <td>8.085012e+03</td>\n",
       "    </tr>\n",
       "    <tr>\n",
       "      <th>std</th>\n",
       "      <td>24.950320</td>\n",
       "      <td>70.442740</td>\n",
       "      <td>1.273002e+05</td>\n",
       "      <td>6313.584411</td>\n",
       "      <td>5.480092e+04</td>\n",
       "      <td>7.625890e+04</td>\n",
       "    </tr>\n",
       "    <tr>\n",
       "      <th>min</th>\n",
       "      <td>-51.796300</td>\n",
       "      <td>-135.000000</td>\n",
       "      <td>0.000000e+00</td>\n",
       "      <td>0.000000</td>\n",
       "      <td>0.000000e+00</td>\n",
       "      <td>-1.400000e+01</td>\n",
       "    </tr>\n",
       "    <tr>\n",
       "      <th>25%</th>\n",
       "      <td>7.873054</td>\n",
       "      <td>-15.310100</td>\n",
       "      <td>4.000000e+00</td>\n",
       "      <td>0.000000</td>\n",
       "      <td>0.000000e+00</td>\n",
       "      <td>0.000000e+00</td>\n",
       "    </tr>\n",
       "    <tr>\n",
       "      <th>50%</th>\n",
       "      <td>23.634500</td>\n",
       "      <td>21.745300</td>\n",
       "      <td>1.680000e+02</td>\n",
       "      <td>2.000000</td>\n",
       "      <td>2.900000e+01</td>\n",
       "      <td>2.600000e+01</td>\n",
       "    </tr>\n",
       "    <tr>\n",
       "      <th>75%</th>\n",
       "      <td>41.204380</td>\n",
       "      <td>80.771797</td>\n",
       "      <td>1.518250e+03</td>\n",
       "      <td>30.000000</td>\n",
       "      <td>6.660000e+02</td>\n",
       "      <td>6.060000e+02</td>\n",
       "    </tr>\n",
       "    <tr>\n",
       "      <th>max</th>\n",
       "      <td>71.706900</td>\n",
       "      <td>178.065000</td>\n",
       "      <td>4.290259e+06</td>\n",
       "      <td>148011.000000</td>\n",
       "      <td>1.846641e+06</td>\n",
       "      <td>2.816444e+06</td>\n",
       "    </tr>\n",
       "  </tbody>\n",
       "</table>\n",
       "</div>"
      ],
      "text/plain": [
       "                Lat          Long     Confirmed         Deaths     Recovered  \\\n",
       "count  49068.000000  49068.000000  4.906800e+04   49068.000000  4.906800e+04   \n",
       "mean      21.433730     23.528236  1.688490e+04     884.179160  7.915713e+03   \n",
       "std       24.950320     70.442740  1.273002e+05    6313.584411  5.480092e+04   \n",
       "min      -51.796300   -135.000000  0.000000e+00       0.000000  0.000000e+00   \n",
       "25%        7.873054    -15.310100  4.000000e+00       0.000000  0.000000e+00   \n",
       "50%       23.634500     21.745300  1.680000e+02       2.000000  2.900000e+01   \n",
       "75%       41.204380     80.771797  1.518250e+03      30.000000  6.660000e+02   \n",
       "max       71.706900    178.065000  4.290259e+06  148011.000000  1.846641e+06   \n",
       "\n",
       "             Active  \n",
       "count  4.906800e+04  \n",
       "mean   8.085012e+03  \n",
       "std    7.625890e+04  \n",
       "min   -1.400000e+01  \n",
       "25%    0.000000e+00  \n",
       "50%    2.600000e+01  \n",
       "75%    6.060000e+02  \n",
       "max    2.816444e+06  "
      ]
     },
     "execution_count": 12,
     "metadata": {},
     "output_type": "execute_result"
    }
   ],
   "source": [
    "df_covid.describe()"
   ]
  },
  {
   "cell_type": "markdown",
   "id": "a75c54de-9486-4a21-bf7b-e0bb3a08463b",
   "metadata": {},
   "source": [
    "There are some variables which have significantly high max or low min values compared to their mean. We will be ploting box plot to see the distributions after we merge df_country and df_covid"
   ]
  },
  {
   "cell_type": "markdown",
   "id": "fe31ee80-7d69-49ca-9522-eea0bab4b9f1",
   "metadata": {},
   "source": [
    "**Checking missing values & handling them**"
   ]
  },
  {
   "cell_type": "code",
   "execution_count": 13,
   "id": "a0481328-ae87-476e-a112-319a0cdd0541",
   "metadata": {},
   "outputs": [
    {
     "data": {
      "text/plain": [
       "Date              0\n",
       "Country/Region    0\n",
       "Confirmed         0\n",
       "Deaths            0\n",
       "Recovered         0\n",
       "Active            0\n",
       "New cases         0\n",
       "New deaths        0\n",
       "New recovered     0\n",
       "WHO Region        0\n",
       "dtype: int64"
      ]
     },
     "execution_count": 13,
     "metadata": {},
     "output_type": "execute_result"
    }
   ],
   "source": [
    "df_fgroup.isnull().sum()"
   ]
  },
  {
   "cell_type": "code",
   "execution_count": 14,
   "id": "e992c3b7-34bc-4e30-8962-d2b6c62772f2",
   "metadata": {},
   "outputs": [
    {
     "data": {
      "text/plain": [
       "Country/Region            0\n",
       "Confirmed                 0\n",
       "Deaths                    0\n",
       "Recovered                 0\n",
       "Active                    0\n",
       "New cases                 0\n",
       "New deaths                0\n",
       "New recovered             0\n",
       "Deaths / 100 Cases        0\n",
       "Recovered / 100 Cases     0\n",
       "Deaths / 100 Recovered    0\n",
       "Confirmed last week       0\n",
       "1 week change             0\n",
       "1 week % increase         0\n",
       "WHO Region                0\n",
       "dtype: int64"
      ]
     },
     "execution_count": 14,
     "metadata": {},
     "output_type": "execute_result"
    }
   ],
   "source": [
    "df_country.isnull().sum()"
   ]
  },
  {
   "cell_type": "code",
   "execution_count": 15,
   "id": "6f04fa1c-0036-4b12-bdf4-240472af427f",
   "metadata": {},
   "outputs": [
    {
     "data": {
      "text/plain": [
       "Province/State    34404\n",
       "Country/Region        0\n",
       "Lat                   0\n",
       "Long                  0\n",
       "Date                  0\n",
       "Confirmed             0\n",
       "Deaths                0\n",
       "Recovered             0\n",
       "Active                0\n",
       "WHO Region            0\n",
       "dtype: int64"
      ]
     },
     "execution_count": 15,
     "metadata": {},
     "output_type": "execute_result"
    }
   ],
   "source": [
    "df_covid.isnull().sum()"
   ]
  },
  {
   "cell_type": "code",
   "execution_count": 16,
   "id": "2aceaa1a-aee9-4ece-98f5-160749718bb4",
   "metadata": {},
   "outputs": [
    {
     "data": {
      "text/html": [
       "<div>\n",
       "<style scoped>\n",
       "    .dataframe tbody tr th:only-of-type {\n",
       "        vertical-align: middle;\n",
       "    }\n",
       "\n",
       "    .dataframe tbody tr th {\n",
       "        vertical-align: top;\n",
       "    }\n",
       "\n",
       "    .dataframe thead th {\n",
       "        text-align: right;\n",
       "    }\n",
       "</style>\n",
       "<table border=\"1\" class=\"dataframe\">\n",
       "  <thead>\n",
       "    <tr style=\"text-align: right;\">\n",
       "      <th></th>\n",
       "      <th>Province/State</th>\n",
       "      <th>Country/Region</th>\n",
       "      <th>Lat</th>\n",
       "      <th>Long</th>\n",
       "      <th>Date</th>\n",
       "      <th>Confirmed</th>\n",
       "      <th>Deaths</th>\n",
       "      <th>Recovered</th>\n",
       "      <th>Active</th>\n",
       "      <th>WHO Region</th>\n",
       "    </tr>\n",
       "  </thead>\n",
       "  <tbody>\n",
       "    <tr>\n",
       "      <th>0</th>\n",
       "      <td></td>\n",
       "      <td>Afghanistan</td>\n",
       "      <td>33.93911</td>\n",
       "      <td>67.709953</td>\n",
       "      <td>2020-01-22</td>\n",
       "      <td>0</td>\n",
       "      <td>0</td>\n",
       "      <td>0</td>\n",
       "      <td>0</td>\n",
       "      <td>Eastern Mediterranean</td>\n",
       "    </tr>\n",
       "    <tr>\n",
       "      <th>1</th>\n",
       "      <td></td>\n",
       "      <td>Albania</td>\n",
       "      <td>41.15330</td>\n",
       "      <td>20.168300</td>\n",
       "      <td>2020-01-22</td>\n",
       "      <td>0</td>\n",
       "      <td>0</td>\n",
       "      <td>0</td>\n",
       "      <td>0</td>\n",
       "      <td>Europe</td>\n",
       "    </tr>\n",
       "    <tr>\n",
       "      <th>2</th>\n",
       "      <td></td>\n",
       "      <td>Algeria</td>\n",
       "      <td>28.03390</td>\n",
       "      <td>1.659600</td>\n",
       "      <td>2020-01-22</td>\n",
       "      <td>0</td>\n",
       "      <td>0</td>\n",
       "      <td>0</td>\n",
       "      <td>0</td>\n",
       "      <td>Africa</td>\n",
       "    </tr>\n",
       "    <tr>\n",
       "      <th>3</th>\n",
       "      <td></td>\n",
       "      <td>Andorra</td>\n",
       "      <td>42.50630</td>\n",
       "      <td>1.521800</td>\n",
       "      <td>2020-01-22</td>\n",
       "      <td>0</td>\n",
       "      <td>0</td>\n",
       "      <td>0</td>\n",
       "      <td>0</td>\n",
       "      <td>Europe</td>\n",
       "    </tr>\n",
       "    <tr>\n",
       "      <th>4</th>\n",
       "      <td></td>\n",
       "      <td>Angola</td>\n",
       "      <td>-11.20270</td>\n",
       "      <td>17.873900</td>\n",
       "      <td>2020-01-22</td>\n",
       "      <td>0</td>\n",
       "      <td>0</td>\n",
       "      <td>0</td>\n",
       "      <td>0</td>\n",
       "      <td>Africa</td>\n",
       "    </tr>\n",
       "  </tbody>\n",
       "</table>\n",
       "</div>"
      ],
      "text/plain": [
       "  Province/State Country/Region       Lat       Long        Date  Confirmed  \\\n",
       "0                   Afghanistan  33.93911  67.709953  2020-01-22          0   \n",
       "1                       Albania  41.15330  20.168300  2020-01-22          0   \n",
       "2                       Algeria  28.03390   1.659600  2020-01-22          0   \n",
       "3                       Andorra  42.50630   1.521800  2020-01-22          0   \n",
       "4                        Angola -11.20270  17.873900  2020-01-22          0   \n",
       "\n",
       "   Deaths  Recovered  Active             WHO Region  \n",
       "0       0          0       0  Eastern Mediterranean  \n",
       "1       0          0       0                 Europe  \n",
       "2       0          0       0                 Africa  \n",
       "3       0          0       0                 Europe  \n",
       "4       0          0       0                 Africa  "
      ]
     },
     "execution_count": 16,
     "metadata": {},
     "output_type": "execute_result"
    }
   ],
   "source": [
    "# the column \"Province/state doesnt have effect on the target and so we will fill with either 0 or just keeping spaced\n",
    "df_covid['Province/State'] = df_covid['Province/State'].fillna('')\n",
    "df_covid.head()"
   ]
  },
  {
   "cell_type": "code",
   "execution_count": 17,
   "id": "b32515cd-2286-4f11-8a14-ce785a152452",
   "metadata": {},
   "outputs": [
    {
     "data": {
      "text/plain": [
       "Country/Region        0\n",
       "Continent             1\n",
       "Population            1\n",
       "TotalCases            0\n",
       "NewCases            205\n",
       "TotalDeaths          21\n",
       "NewDeaths           206\n",
       "TotalRecovered        4\n",
       "NewRecovered        206\n",
       "ActiveCases           4\n",
       "Serious,Critical     87\n",
       "Tot Cases/1M pop      1\n",
       "Deaths/1M pop        22\n",
       "TotalTests           18\n",
       "Tests/1M pop         18\n",
       "WHO Region           25\n",
       "dtype: int64"
      ]
     },
     "execution_count": 17,
     "metadata": {},
     "output_type": "execute_result"
    }
   ],
   "source": [
    "df_world.isnull().sum()"
   ]
  },
  {
   "cell_type": "code",
   "execution_count": 18,
   "id": "d91d49c1-80b0-44c4-a6f5-afe529d12609",
   "metadata": {},
   "outputs": [
    {
     "data": {
      "text/html": [
       "<div>\n",
       "<style scoped>\n",
       "    .dataframe tbody tr th:only-of-type {\n",
       "        vertical-align: middle;\n",
       "    }\n",
       "\n",
       "    .dataframe tbody tr th {\n",
       "        vertical-align: top;\n",
       "    }\n",
       "\n",
       "    .dataframe thead th {\n",
       "        text-align: right;\n",
       "    }\n",
       "</style>\n",
       "<table border=\"1\" class=\"dataframe\">\n",
       "  <thead>\n",
       "    <tr style=\"text-align: right;\">\n",
       "      <th></th>\n",
       "      <th>Country/Region</th>\n",
       "      <th>Continent</th>\n",
       "      <th>Population</th>\n",
       "      <th>TotalCases</th>\n",
       "      <th>NewCases</th>\n",
       "      <th>TotalDeaths</th>\n",
       "      <th>NewDeaths</th>\n",
       "      <th>TotalRecovered</th>\n",
       "      <th>NewRecovered</th>\n",
       "      <th>ActiveCases</th>\n",
       "      <th>Serious,Critical</th>\n",
       "      <th>Tot Cases/1M pop</th>\n",
       "      <th>Deaths/1M pop</th>\n",
       "      <th>TotalTests</th>\n",
       "      <th>Tests/1M pop</th>\n",
       "      <th>WHO Region</th>\n",
       "    </tr>\n",
       "  </thead>\n",
       "  <tbody>\n",
       "    <tr>\n",
       "      <th>0</th>\n",
       "      <td>USA</td>\n",
       "      <td>North America</td>\n",
       "      <td>3.311981e+08</td>\n",
       "      <td>5032179</td>\n",
       "      <td>0.0</td>\n",
       "      <td>162804.0</td>\n",
       "      <td>0.0</td>\n",
       "      <td>2576668.0</td>\n",
       "      <td>0.0</td>\n",
       "      <td>2292707.0</td>\n",
       "      <td>18296.0</td>\n",
       "      <td>15194.0</td>\n",
       "      <td>492.0</td>\n",
       "      <td>63139605.0</td>\n",
       "      <td>190640.0</td>\n",
       "      <td>Americas</td>\n",
       "    </tr>\n",
       "    <tr>\n",
       "      <th>1</th>\n",
       "      <td>Brazil</td>\n",
       "      <td>South America</td>\n",
       "      <td>2.127107e+08</td>\n",
       "      <td>2917562</td>\n",
       "      <td>0.0</td>\n",
       "      <td>98644.0</td>\n",
       "      <td>0.0</td>\n",
       "      <td>2047660.0</td>\n",
       "      <td>0.0</td>\n",
       "      <td>771258.0</td>\n",
       "      <td>8318.0</td>\n",
       "      <td>13716.0</td>\n",
       "      <td>464.0</td>\n",
       "      <td>13206188.0</td>\n",
       "      <td>62085.0</td>\n",
       "      <td>Americas</td>\n",
       "    </tr>\n",
       "    <tr>\n",
       "      <th>2</th>\n",
       "      <td>India</td>\n",
       "      <td>Asia</td>\n",
       "      <td>1.381345e+09</td>\n",
       "      <td>2025409</td>\n",
       "      <td>0.0</td>\n",
       "      <td>41638.0</td>\n",
       "      <td>0.0</td>\n",
       "      <td>1377384.0</td>\n",
       "      <td>0.0</td>\n",
       "      <td>606387.0</td>\n",
       "      <td>8944.0</td>\n",
       "      <td>1466.0</td>\n",
       "      <td>30.0</td>\n",
       "      <td>22149351.0</td>\n",
       "      <td>16035.0</td>\n",
       "      <td>South-EastAsia</td>\n",
       "    </tr>\n",
       "    <tr>\n",
       "      <th>3</th>\n",
       "      <td>Russia</td>\n",
       "      <td>Europe</td>\n",
       "      <td>1.459409e+08</td>\n",
       "      <td>871894</td>\n",
       "      <td>0.0</td>\n",
       "      <td>14606.0</td>\n",
       "      <td>0.0</td>\n",
       "      <td>676357.0</td>\n",
       "      <td>0.0</td>\n",
       "      <td>180931.0</td>\n",
       "      <td>2300.0</td>\n",
       "      <td>5974.0</td>\n",
       "      <td>100.0</td>\n",
       "      <td>29716907.0</td>\n",
       "      <td>203623.0</td>\n",
       "      <td>Europe</td>\n",
       "    </tr>\n",
       "    <tr>\n",
       "      <th>4</th>\n",
       "      <td>South Africa</td>\n",
       "      <td>Africa</td>\n",
       "      <td>5.938157e+07</td>\n",
       "      <td>538184</td>\n",
       "      <td>0.0</td>\n",
       "      <td>9604.0</td>\n",
       "      <td>0.0</td>\n",
       "      <td>387316.0</td>\n",
       "      <td>0.0</td>\n",
       "      <td>141264.0</td>\n",
       "      <td>539.0</td>\n",
       "      <td>9063.0</td>\n",
       "      <td>162.0</td>\n",
       "      <td>3149807.0</td>\n",
       "      <td>53044.0</td>\n",
       "      <td>Africa</td>\n",
       "    </tr>\n",
       "  </tbody>\n",
       "</table>\n",
       "</div>"
      ],
      "text/plain": [
       "  Country/Region      Continent    Population  TotalCases  NewCases  \\\n",
       "0            USA  North America  3.311981e+08     5032179       0.0   \n",
       "1         Brazil  South America  2.127107e+08     2917562       0.0   \n",
       "2          India           Asia  1.381345e+09     2025409       0.0   \n",
       "3         Russia         Europe  1.459409e+08      871894       0.0   \n",
       "4   South Africa         Africa  5.938157e+07      538184       0.0   \n",
       "\n",
       "   TotalDeaths  NewDeaths  TotalRecovered  NewRecovered  ActiveCases  \\\n",
       "0     162804.0        0.0       2576668.0           0.0    2292707.0   \n",
       "1      98644.0        0.0       2047660.0           0.0     771258.0   \n",
       "2      41638.0        0.0       1377384.0           0.0     606387.0   \n",
       "3      14606.0        0.0        676357.0           0.0     180931.0   \n",
       "4       9604.0        0.0        387316.0           0.0     141264.0   \n",
       "\n",
       "   Serious,Critical  Tot Cases/1M pop  Deaths/1M pop  TotalTests  \\\n",
       "0           18296.0           15194.0          492.0  63139605.0   \n",
       "1            8318.0           13716.0          464.0  13206188.0   \n",
       "2            8944.0            1466.0           30.0  22149351.0   \n",
       "3            2300.0            5974.0          100.0  29716907.0   \n",
       "4             539.0            9063.0          162.0   3149807.0   \n",
       "\n",
       "   Tests/1M pop      WHO Region  \n",
       "0      190640.0        Americas  \n",
       "1       62085.0        Americas  \n",
       "2       16035.0  South-EastAsia  \n",
       "3      203623.0          Europe  \n",
       "4       53044.0          Africa  "
      ]
     },
     "execution_count": 18,
     "metadata": {},
     "output_type": "execute_result"
    }
   ],
   "source": [
    "# handling all numerical missing values by filling them with 0\n",
    "happening = ['NewCases','NewDeaths','NewRecovered','Serious,Critical','TotalDeaths','Tests/1M pop','Deaths/1M pop', 'TotalTests','ActiveCases','TotalRecovered']\n",
    "df_world[happening] = df_world[happening].fillna(0)\n",
    "#handling the region names missing values by filling them with ''\n",
    "df_world['WHO Region'] = df_world['WHO Region'].fillna('')\n",
    "df_world.head()"
   ]
  },
  {
   "cell_type": "code",
   "execution_count": 19,
   "id": "9352fa5e-05e9-401e-92f3-2568d9bbe650",
   "metadata": {},
   "outputs": [
    {
     "data": {
      "text/plain": [
       "Date                      0\n",
       "Confirmed                 0\n",
       "Deaths                    0\n",
       "Recovered                 0\n",
       "Active                    0\n",
       "New cases                 0\n",
       "New deaths                0\n",
       "New recovered             0\n",
       "Deaths / 100 Cases        0\n",
       "Recovered / 100 Cases     0\n",
       "Deaths / 100 Recovered    0\n",
       "No. of countries          0\n",
       "dtype: int64"
      ]
     },
     "execution_count": 19,
     "metadata": {},
     "output_type": "execute_result"
    }
   ],
   "source": [
    "df_day.isnull().sum()"
   ]
  },
  {
   "cell_type": "code",
   "execution_count": 20,
   "id": "74696d4d-19e1-4703-b3a3-8066c7d9a62d",
   "metadata": {},
   "outputs": [
    {
     "name": "stdout",
     "output_type": "stream",
     "text": [
      "<class 'pandas.core.frame.DataFrame'>\n",
      "RangeIndex: 35156 entries, 0 to 35155\n",
      "Data columns (total 10 columns):\n",
      " #   Column          Non-Null Count  Dtype         \n",
      "---  ------          --------------  -----         \n",
      " 0   Date            35156 non-null  datetime64[ns]\n",
      " 1   Country/Region  35156 non-null  object        \n",
      " 2   Confirmed       35156 non-null  int64         \n",
      " 3   Deaths          35156 non-null  int64         \n",
      " 4   Recovered       35156 non-null  int64         \n",
      " 5   Active          35156 non-null  int64         \n",
      " 6   New cases       35156 non-null  int64         \n",
      " 7   New deaths      35156 non-null  int64         \n",
      " 8   New recovered   35156 non-null  int64         \n",
      " 9   WHO Region      35156 non-null  object        \n",
      "dtypes: datetime64[ns](1), int64(7), object(2)\n",
      "memory usage: 2.7+ MB\n",
      "None\n",
      "<class 'pandas.core.frame.DataFrame'>\n",
      "RangeIndex: 188 entries, 0 to 187\n",
      "Data columns (total 12 columns):\n",
      " #   Column                  Non-Null Count  Dtype         \n",
      "---  ------                  --------------  -----         \n",
      " 0   Date                    188 non-null    datetime64[ns]\n",
      " 1   Confirmed               188 non-null    int64         \n",
      " 2   Deaths                  188 non-null    int64         \n",
      " 3   Recovered               188 non-null    int64         \n",
      " 4   Active                  188 non-null    int64         \n",
      " 5   New cases               188 non-null    int64         \n",
      " 6   New deaths              188 non-null    int64         \n",
      " 7   New recovered           188 non-null    int64         \n",
      " 8   Deaths / 100 Cases      188 non-null    float64       \n",
      " 9   Recovered / 100 Cases   188 non-null    float64       \n",
      " 10  Deaths / 100 Recovered  188 non-null    float64       \n",
      " 11  No. of countries        188 non-null    int64         \n",
      "dtypes: datetime64[ns](1), float64(3), int64(8)\n",
      "memory usage: 17.8 KB\n",
      "None\n"
     ]
    }
   ],
   "source": [
    "# changing the format of date\n",
    "df_fgroup[\"Date\"] = pd.to_datetime(df_fgroup[\"Date\"], format = \"%Y-%m-%d\")\n",
    "print(df_fgroup.info())\n",
    "df_day[\"Date\"] = pd.to_datetime(df_day[\"Date\"], format= \"%Y-%m-%d\")\n",
    "print(df_day.info())"
   ]
  },
  {
   "cell_type": "markdown",
   "id": "176844c5-ec24-4d8f-82e2-eda4f17ed1af",
   "metadata": {},
   "source": [
    "**Checking the duplicates**"
   ]
  },
  {
   "cell_type": "code",
   "execution_count": 22,
   "id": "2005139c-44e1-43f4-8e09-d6e39754e95b",
   "metadata": {},
   "outputs": [
    {
     "data": {
      "text/plain": [
       "0"
      ]
     },
     "execution_count": 22,
     "metadata": {},
     "output_type": "execute_result"
    }
   ],
   "source": [
    "df_covid.duplicated().sum()"
   ]
  },
  {
   "cell_type": "code",
   "execution_count": 23,
   "id": "14a83660-4c8e-4cc8-a1ce-706a769ded0f",
   "metadata": {},
   "outputs": [
    {
     "data": {
      "text/plain": [
       "0"
      ]
     },
     "execution_count": 23,
     "metadata": {},
     "output_type": "execute_result"
    }
   ],
   "source": [
    "df_country.duplicated().sum()"
   ]
  },
  {
   "cell_type": "code",
   "execution_count": 24,
   "id": "fd52f407-98c7-41c6-a010-38700005242f",
   "metadata": {},
   "outputs": [
    {
     "data": {
      "text/plain": [
       "0"
      ]
     },
     "execution_count": 24,
     "metadata": {},
     "output_type": "execute_result"
    }
   ],
   "source": [
    "df_day.duplicated().sum()"
   ]
  },
  {
   "cell_type": "code",
   "execution_count": 25,
   "id": "1bc04e1f-2c83-48cc-9fd7-9e5c9794d2a9",
   "metadata": {},
   "outputs": [
    {
     "data": {
      "text/plain": [
       "0"
      ]
     },
     "execution_count": 25,
     "metadata": {},
     "output_type": "execute_result"
    }
   ],
   "source": [
    "df_fgroup.duplicated().sum()"
   ]
  },
  {
   "cell_type": "code",
   "execution_count": 26,
   "id": "5facb5cd-e82f-4bcb-95b7-c7281db933fe",
   "metadata": {},
   "outputs": [
    {
     "data": {
      "text/plain": [
       "0"
      ]
     },
     "execution_count": 26,
     "metadata": {},
     "output_type": "execute_result"
    }
   ],
   "source": [
    "df_world.duplicated().sum()"
   ]
  },
  {
   "cell_type": "markdown",
   "id": "c598ad13-b7ed-4ee5-89a5-c815f5e03557",
   "metadata": {},
   "source": [
    "As there are no duplicate rows, we can initiate our next sequence which is **merging for a better analysis & visulization**"
   ]
  },
  {
   "cell_type": "markdown",
   "id": "ecc55071-7619-4a9b-a5e0-8920f613fbb4",
   "metadata": {},
   "source": [
    "## Step:3) Merging the data for data integrity"
   ]
  },
  {
   "cell_type": "code",
   "execution_count": 27,
   "id": "7727e39e-bdf1-4958-b94b-e61256d72da1",
   "metadata": {},
   "outputs": [
    {
     "name": "stdout",
     "output_type": "stream",
     "text": [
      "{'Recovered', 'Deaths', 'WHO Region', 'Confirmed', 'Active', 'Country/Region'}\n"
     ]
    }
   ],
   "source": [
    "#finding the common columns in between the two datasets that we'd be analysing\n",
    "covid_columns = set(df_covid.columns)\n",
    "country_columns = set(df_country.columns)\n",
    "common_columns = covid_columns & country_columns\n",
    "print(common_columns)\n"
   ]
  },
  {
   "cell_type": "code",
   "execution_count": 28,
   "id": "34a96a6e-1f89-4934-a882-864203846b18",
   "metadata": {},
   "outputs": [
    {
     "data": {
      "text/html": [
       "<div>\n",
       "<style scoped>\n",
       "    .dataframe tbody tr th:only-of-type {\n",
       "        vertical-align: middle;\n",
       "    }\n",
       "\n",
       "    .dataframe tbody tr th {\n",
       "        vertical-align: top;\n",
       "    }\n",
       "\n",
       "    .dataframe thead th {\n",
       "        text-align: right;\n",
       "    }\n",
       "</style>\n",
       "<table border=\"1\" class=\"dataframe\">\n",
       "  <thead>\n",
       "    <tr style=\"text-align: right;\">\n",
       "      <th></th>\n",
       "      <th>Province/State</th>\n",
       "      <th>Country/Region</th>\n",
       "      <th>Lat</th>\n",
       "      <th>Long</th>\n",
       "      <th>Date</th>\n",
       "      <th>Confirmed</th>\n",
       "      <th>Deaths</th>\n",
       "      <th>Recovered</th>\n",
       "      <th>Active</th>\n",
       "      <th>WHO Region</th>\n",
       "      <th>New cases</th>\n",
       "      <th>New deaths</th>\n",
       "      <th>New recovered</th>\n",
       "      <th>Deaths / 100 Cases</th>\n",
       "      <th>Recovered / 100 Cases</th>\n",
       "      <th>Deaths / 100 Recovered</th>\n",
       "      <th>Confirmed last week</th>\n",
       "      <th>1 week change</th>\n",
       "      <th>1 week % increase</th>\n",
       "    </tr>\n",
       "  </thead>\n",
       "  <tbody>\n",
       "    <tr>\n",
       "      <th>0</th>\n",
       "      <td></td>\n",
       "      <td>Timor-Leste</td>\n",
       "      <td>-8.874217</td>\n",
       "      <td>125.727539</td>\n",
       "      <td>2020-04-24</td>\n",
       "      <td>24</td>\n",
       "      <td>0</td>\n",
       "      <td>0</td>\n",
       "      <td>24</td>\n",
       "      <td>South-East Asia</td>\n",
       "      <td>0</td>\n",
       "      <td>0</td>\n",
       "      <td>0</td>\n",
       "      <td>0.0</td>\n",
       "      <td>0.0</td>\n",
       "      <td>0.0</td>\n",
       "      <td>24</td>\n",
       "      <td>0</td>\n",
       "      <td>0.0</td>\n",
       "    </tr>\n",
       "    <tr>\n",
       "      <th>1</th>\n",
       "      <td></td>\n",
       "      <td>Timor-Leste</td>\n",
       "      <td>-8.874217</td>\n",
       "      <td>125.727539</td>\n",
       "      <td>2020-04-25</td>\n",
       "      <td>24</td>\n",
       "      <td>0</td>\n",
       "      <td>0</td>\n",
       "      <td>24</td>\n",
       "      <td>South-East Asia</td>\n",
       "      <td>0</td>\n",
       "      <td>0</td>\n",
       "      <td>0</td>\n",
       "      <td>0.0</td>\n",
       "      <td>0.0</td>\n",
       "      <td>0.0</td>\n",
       "      <td>24</td>\n",
       "      <td>0</td>\n",
       "      <td>0.0</td>\n",
       "    </tr>\n",
       "    <tr>\n",
       "      <th>2</th>\n",
       "      <td></td>\n",
       "      <td>Timor-Leste</td>\n",
       "      <td>-8.874217</td>\n",
       "      <td>125.727539</td>\n",
       "      <td>2020-04-26</td>\n",
       "      <td>24</td>\n",
       "      <td>0</td>\n",
       "      <td>0</td>\n",
       "      <td>24</td>\n",
       "      <td>South-East Asia</td>\n",
       "      <td>0</td>\n",
       "      <td>0</td>\n",
       "      <td>0</td>\n",
       "      <td>0.0</td>\n",
       "      <td>0.0</td>\n",
       "      <td>0.0</td>\n",
       "      <td>24</td>\n",
       "      <td>0</td>\n",
       "      <td>0.0</td>\n",
       "    </tr>\n",
       "    <tr>\n",
       "      <th>3</th>\n",
       "      <td></td>\n",
       "      <td>Timor-Leste</td>\n",
       "      <td>-8.874217</td>\n",
       "      <td>125.727539</td>\n",
       "      <td>2020-04-27</td>\n",
       "      <td>24</td>\n",
       "      <td>0</td>\n",
       "      <td>0</td>\n",
       "      <td>24</td>\n",
       "      <td>South-East Asia</td>\n",
       "      <td>0</td>\n",
       "      <td>0</td>\n",
       "      <td>0</td>\n",
       "      <td>0.0</td>\n",
       "      <td>0.0</td>\n",
       "      <td>0.0</td>\n",
       "      <td>24</td>\n",
       "      <td>0</td>\n",
       "      <td>0.0</td>\n",
       "    </tr>\n",
       "    <tr>\n",
       "      <th>4</th>\n",
       "      <td></td>\n",
       "      <td>Timor-Leste</td>\n",
       "      <td>-8.874217</td>\n",
       "      <td>125.727539</td>\n",
       "      <td>2020-04-28</td>\n",
       "      <td>24</td>\n",
       "      <td>0</td>\n",
       "      <td>0</td>\n",
       "      <td>24</td>\n",
       "      <td>South-East Asia</td>\n",
       "      <td>0</td>\n",
       "      <td>0</td>\n",
       "      <td>0</td>\n",
       "      <td>0.0</td>\n",
       "      <td>0.0</td>\n",
       "      <td>0.0</td>\n",
       "      <td>24</td>\n",
       "      <td>0</td>\n",
       "      <td>0.0</td>\n",
       "    </tr>\n",
       "  </tbody>\n",
       "</table>\n",
       "</div>"
      ],
      "text/plain": [
       "  Province/State Country/Region       Lat        Long        Date  Confirmed  \\\n",
       "0                   Timor-Leste -8.874217  125.727539  2020-04-24         24   \n",
       "1                   Timor-Leste -8.874217  125.727539  2020-04-25         24   \n",
       "2                   Timor-Leste -8.874217  125.727539  2020-04-26         24   \n",
       "3                   Timor-Leste -8.874217  125.727539  2020-04-27         24   \n",
       "4                   Timor-Leste -8.874217  125.727539  2020-04-28         24   \n",
       "\n",
       "   Deaths  Recovered  Active       WHO Region  New cases  New deaths  \\\n",
       "0       0          0      24  South-East Asia          0           0   \n",
       "1       0          0      24  South-East Asia          0           0   \n",
       "2       0          0      24  South-East Asia          0           0   \n",
       "3       0          0      24  South-East Asia          0           0   \n",
       "4       0          0      24  South-East Asia          0           0   \n",
       "\n",
       "   New recovered  Deaths / 100 Cases  Recovered / 100 Cases  \\\n",
       "0              0                 0.0                    0.0   \n",
       "1              0                 0.0                    0.0   \n",
       "2              0                 0.0                    0.0   \n",
       "3              0                 0.0                    0.0   \n",
       "4              0                 0.0                    0.0   \n",
       "\n",
       "   Deaths / 100 Recovered  Confirmed last week  1 week change  \\\n",
       "0                     0.0                   24              0   \n",
       "1                     0.0                   24              0   \n",
       "2                     0.0                   24              0   \n",
       "3                     0.0                   24              0   \n",
       "4                     0.0                   24              0   \n",
       "\n",
       "   1 week % increase  \n",
       "0                0.0  \n",
       "1                0.0  \n",
       "2                0.0  \n",
       "3                0.0  \n",
       "4                0.0  "
      ]
     },
     "execution_count": 28,
     "metadata": {},
     "output_type": "execute_result"
    }
   ],
   "source": [
    "commons = ['WHO Region', 'Recovered', 'Country/Region', 'Deaths', 'Active', 'Confirmed']\n",
    "merged_covcountry = pd.merge(df_covid, df_country, on=commons, how='inner')\n",
    "merged_covcountry.head()"
   ]
  },
  {
   "cell_type": "markdown",
   "id": "8d734924-a900-48c6-aa7b-a1b05c59754d",
   "metadata": {},
   "source": [
    "**Checking outliers for the merged dataframe**"
   ]
  },
  {
   "cell_type": "code",
   "execution_count": 32,
   "id": "52f68647-fc2e-45fd-873a-c5ff74322757",
   "metadata": {},
   "outputs": [
    {
     "name": "stderr",
     "output_type": "stream",
     "text": [
      "C:\\Users\\Abdul Rehman\\AppData\\Local\\Temp\\ipykernel_11320\\745855115.py:7: FutureWarning: \n",
      "\n",
      "Passing `palette` without assigning `hue` is deprecated and will be removed in v0.14.0. Assign the `y` variable to `hue` and set `legend=False` for the same effect.\n",
      "\n",
      "  sns.boxplot(data=merged_covcountry[allcases], orient='h', palette='Set2', color = 'r')\n"
     ]
    },
    {
     "data": {
      "image/png": "[encoded data removed]",
      "text/plain": [
       "<Figure size 1200x600 with 1 Axes>"
      ]
     },
     "metadata": {},
     "output_type": "display_data"
    }
   ],
   "source": [
    "# Ploting box plot for Confirmed\n",
    "import seaborn as sns\n",
    "sns.set(style=\"darkgrid\")  \n",
    "allcases = ['Confirmed', 'Deaths', 'Recovered', 'Active']\n",
    "# Create a box plot for every cases\n",
    "plt.figure(figsize=(12, 6))  \n",
    "sns.boxplot(data=merged_covcountry[allcases], orient='h', palette='Set2', color = 'r')\n",
    "\n",
    "\n",
    "# Add labels and title (optional)\n",
    "plt.xlabel(f'{allcases} cases')\n",
    "plt.title('Box Plot of Corona distribution')\n",
    "\n",
    "# Show the plot\n",
    "plt.show()"
   ]
  },
  {
   "cell_type": "markdown",
   "id": "c55c910e-e7a0-492e-8173-ecaab9310e78",
   "metadata": {},
   "source": [
    "**Insights**\n",
    "\n",
    "- It has been seen that there are meaningless outliers for all the cases that ranges outside of the whiskers but the outliers scattering nearer to the whiskers could be handled and I'd initiate in next steps"
   ]
  },
  {
   "cell_type": "markdown",
   "id": "e96d1b4a-fe01-4a12-af7a-6a15fdc0a086",
   "metadata": {},
   "source": [
    "# <span style=\"color:#0077b6\">Analyze and Share Phase<a name=\"asp\"></a></span>"
   ]
  },
  {
   "cell_type": "markdown",
   "id": "a5e99e78-07c6-4908-82c5-5b6df1116ef2",
   "metadata": {},
   "source": [
    "## Step:4) Checking our target through vizzes\\"
   ]
  },
  {
   "cell_type": "code",
   "execution_count": 34,
   "id": "5334fb05-322c-400b-a978-27e7079b48f7",
   "metadata": {},
   "outputs": [
    {
     "data": {
      "image/png": "[encoded data removed]",
      "text/plain": [
       "<Figure size 800x800 with 1 Axes>"
      ]
     },
     "metadata": {},
     "output_type": "display_data"
    }
   ],
   "source": [
    "df_intotalcases = merged_covcountry[['Confirmed','Recovered', 'Deaths', 'Active']].sum()\n",
    "label = ['Confirmed','Recovered', 'Deaths', 'Active']\n",
    "color_scale = ['#590d22','#a4133c','#ff4d6d','#ff8fa3']\n",
    "\n",
    "plt.figure(figsize = (8,8))\n",
    "plt.pie(df_intotalcases, labels = label, autopct = '%1.1f%%', explode = (0,0,0.1,0) ,colors = color_scale, startangle = 140, shadow = True, textprops={'color': 'white','weight': 'bold'})\n",
    "plt.title(\"Distributions of all cases worlwide\", fontsize = 20)\n",
    "\n",
    "plt.axis('equal')\n",
    "\n",
    "\n",
    "\n",
    "plt.legend()\n",
    "plt.tight_layout()\n",
    "plt.show()"
   ]
  },
  {
   "cell_type": "markdown",
   "id": "66f078e6-85a6-45af-9a24-ba68b3d3e9bd",
   "metadata": {},
   "source": [
    "Here, we will see the cases that were existing throughout the time"
   ]
  },
  {
   "cell_type": "markdown",
   "id": "bc7a3103-31be-4a2a-816f-a22a0b65abc5",
   "metadata": {},
   "source": [
    "**Insights**\n",
    "- It's seen that half of the cases are of from \"confirmed\" which tells us that the world is in an outspread of corona disease and massive amounts of treatments and quarantines are needed to increase the percentage of \"recovered\" cases. \n",
    "- However, death rate had been the least among all the cases but 1.9% out of 8,045,311,447 people in this world is too much, that's almost as if 152,860,917 were killed by this disease. \n",
    "- We need to take immediate measures to lessen these death rate and send help to what country/region needs the most. T"
   ]
  },
  {
   "cell_type": "code",
   "execution_count": 55,
   "id": "293b0776-3c8c-4738-a21a-ef14113efe4d",
   "metadata": {},
   "outputs": [
    {
     "data": {
      "text/html": [
       "\n",
       "        <iframe\n",
       "            width=\"800\"\n",
       "            height=\"600\"\n",
       "            src=\"./plotly_figure.html\"\n",
       "            frameborder=\"0\"\n",
       "            allowfullscreen\n",
       "            \n",
       "        ></iframe>\n",
       "        "
      ],
      "text/plain": [
       "<IPython.lib.display.IFrame at 0x240eebdf2f0>"
      ]
     },
     "execution_count": 55,
     "metadata": {},
     "output_type": "execute_result"
    }
   ],
   "source": [
    "# Group and melt the DataFrame\n",
    "case_time = df_fgroup.groupby('Date')[['Confirmed', 'Recovered', 'Deaths', 'Active']].sum().reset_index()\n",
    "case_time = case_time.melt(id_vars=\"Date\", value_vars=['Confirmed', 'Recovered', 'Deaths', 'Active'],\n",
    "                 var_name='Case', value_name='Count')\n",
    "\n",
    "# Create the area plot\n",
    "fig = px.area(case_time, x=\"Date\", y=\"Count\", color='Case', height=600, width=700,\n",
    "             title='Cases over time', color_discrete_sequence=['#780000', '#cdb4db','#fb8500', '#06d6a0'])\n",
    "fig.update_layout(xaxis_rangeslider_visible=True)\n",
    "# Save the figure to an HTML file\n",
    "fig.write_html('plotly_figure.html')\n",
    "\n",
    "# Display the HTML file in the notebook\n",
    "from IPython.display import IFrame\n",
    "IFrame(src='./plotly_figure.html', width=800, height=600)"
   ]
  },
  {
   "cell_type": "markdown",
   "id": "6be0845c-dca6-4761-a089-88d951742f43",
   "metadata": {},
   "source": [
    "**By taking the above insights on the above graph, we'll implement all following graphs to analyse which country needs the most health equipments to lessen the death rate**"
   ]
  },
  {
   "cell_type": "markdown",
   "id": "16db6f58-0c8c-44af-b16f-38be21855e8d",
   "metadata": {},
   "source": [
    "- So, plotting a pie chart on confirmed cases in a descending manner"
   ]
  },
  {
   "cell_type": "code",
   "execution_count": 42,
   "id": "f1d4282a-6c8d-4b0f-9b75-533b3bb739c0",
   "metadata": {},
   "outputs": [
    {
     "data": {
      "image/png": "[encoded data removed]",
      "text/plain": [
       "<Figure size 1000x1000 with 1 Axes>"
      ]
     },
     "metadata": {},
     "output_type": "display_data"
    }
   ],
   "source": [
    "# Calculating the sum of Confirmed cases for each country and select the top 10\n",
    "country_totals = merged_covcountry.groupby('Country/Region')['Confirmed'].sum().nlargest(10)\n",
    "\n",
    "# Creating a pie chart\n",
    "plt.figure(figsize=(10,10))\n",
    "plt.pie(country_totals, labels=country_totals.index, autopct='%1.1f%%', startangle=140)\n",
    "plt.title('Distribution of Confirmed Cases by Country/Region (Top 10)', fontsize = 16, color='r', loc='left', horizontalalignment='center')\n",
    "plt.axis('equal')  \n",
    "\n",
    "# Showing the pie chart\n",
    "plt.legend()\n",
    "plt.tight_layout()\n",
    "plt.show()\n"
   ]
  },
  {
   "cell_type": "markdown",
   "id": "f0bc1611-aaa6-4eee-96d8-8ff541c748b1",
   "metadata": {},
   "source": [
    "**Insights**\n",
    "- It has been seen that the majority of confirmed cases prevail in US at 35.8% and it's in a worse state and in need of immediate measures and quarantines. Thus we can infer that they have higher chances of not able to be recovered simulatenously as the whole world is in need of healthcare as well."
   ]
  },
  {
   "cell_type": "markdown",
   "id": "3dfc84bc-7e52-4a1b-87aa-33276b29a33a",
   "metadata": {},
   "source": [
    "## Step:6) Checking all about recovered cases"
   ]
  },
  {
   "cell_type": "markdown",
   "id": "b04c0b66-e184-4af1-82e4-08df1d7b5065",
   "metadata": {},
   "source": [
    "**Analysis on Recovered cases**"
   ]
  },
  {
   "cell_type": "code",
   "execution_count": 43,
   "id": "9246e2b8-3806-40c5-96ab-55e6f962b8ba",
   "metadata": {},
   "outputs": [
    {
     "data": {
      "text/plain": [
       "\"merged_covcountry['Date'] = pd.to_datetime(merged_covcountry['Date'], format='%Y-%m-%d')\\ncovid19_new = pd.merge(merged_covcountry, df_fgroup , on = 'Date', how = 'inner')\\ncovid19_new.sample(n=6)\""
      ]
     },
     "execution_count": 43,
     "metadata": {},
     "output_type": "execute_result"
    }
   ],
   "source": [
    "'''merged_covcountry['Date'] = pd.to_datetime(merged_covcountry['Date'], format='%Y-%m-%d')\n",
    "covid19_new = pd.merge(merged_covcountry, df_fgroup , on = 'Date', how = 'inner')\n",
    "covid19_new.sample(n=6)'''"
   ]
  },
  {
   "cell_type": "code",
   "execution_count": 44,
   "id": "c41b591b-999b-4e49-a919-8317fa1ec24c",
   "metadata": {},
   "outputs": [
    {
     "data": {
      "text/html": [
       "<div>\n",
       "<style scoped>\n",
       "    .dataframe tbody tr th:only-of-type {\n",
       "        vertical-align: middle;\n",
       "    }\n",
       "\n",
       "    .dataframe tbody tr th {\n",
       "        vertical-align: top;\n",
       "    }\n",
       "\n",
       "    .dataframe thead th {\n",
       "        text-align: right;\n",
       "    }\n",
       "</style>\n",
       "<table border=\"1\" class=\"dataframe\">\n",
       "  <thead>\n",
       "    <tr style=\"text-align: right;\">\n",
       "      <th></th>\n",
       "      <th>Country/Region</th>\n",
       "      <th>Recovered</th>\n",
       "    </tr>\n",
       "  </thead>\n",
       "  <tbody>\n",
       "    <tr>\n",
       "      <th>173</th>\n",
       "      <td>US</td>\n",
       "      <td>56353416</td>\n",
       "    </tr>\n",
       "    <tr>\n",
       "      <th>23</th>\n",
       "      <td>Brazil</td>\n",
       "      <td>54492873</td>\n",
       "    </tr>\n",
       "    <tr>\n",
       "      <th>138</th>\n",
       "      <td>Russia</td>\n",
       "      <td>25120448</td>\n",
       "    </tr>\n",
       "    <tr>\n",
       "      <th>79</th>\n",
       "      <td>India</td>\n",
       "      <td>23783720</td>\n",
       "    </tr>\n",
       "    <tr>\n",
       "      <th>65</th>\n",
       "      <td>Germany</td>\n",
       "      <td>17107839</td>\n",
       "    </tr>\n",
       "  </tbody>\n",
       "</table>\n",
       "</div>"
      ],
      "text/plain": [
       "    Country/Region  Recovered\n",
       "173             US   56353416\n",
       "23          Brazil   54492873\n",
       "138         Russia   25120448\n",
       "79           India   23783720\n",
       "65         Germany   17107839"
      ]
     },
     "execution_count": 44,
     "metadata": {},
     "output_type": "execute_result"
    }
   ],
   "source": [
    "df_target_recover = df_fgroup.groupby('Country/Region')['Recovered'].sum().reset_index()\n",
    "df_target_recover.sort_values(by = 'Recovered', ascending = False).head()"
   ]
  },
  {
   "cell_type": "markdown",
   "id": "686f35eb-bd62-4fcc-a2c1-212453949240",
   "metadata": {},
   "source": [
    "**Sum of recovered cases country wise per date**"
   ]
  },
  {
   "cell_type": "code",
   "execution_count": 45,
   "id": "3c63973d-af5a-4280-b049-70169ff13e0d",
   "metadata": {},
   "outputs": [
    {
     "data": {
      "text/plain": [
       "0           0\n",
       "1           0\n",
       "2           0\n",
       "3           0\n",
       "4           0\n",
       "         ... \n",
       "35151    3752\n",
       "35152       8\n",
       "35153     833\n",
       "35154    2815\n",
       "35155     542\n",
       "Name: Recovered, Length: 35156, dtype: int64"
      ]
     },
     "execution_count": 45,
     "metadata": {},
     "output_type": "execute_result"
    }
   ],
   "source": [
    "df_fgroup.groupby(['Country/Region', 'Date'])['Recovered'].transform('sum')"
   ]
  },
  {
   "cell_type": "markdown",
   "id": "55feb456-a516-4640-a419-ad5f383a2700",
   "metadata": {},
   "source": [
    "- **Here, I will do analysis on US about the recovery rates as half of the percentages of selected populations are infected with covid-19 there**"
   ]
  },
  {
   "cell_type": "code",
   "execution_count": 46,
   "id": "bd7237a9-23f4-4c6c-a10c-5a28b2ab5906",
   "metadata": {},
   "outputs": [
    {
     "data": {
      "text/html": [
       "<div>\n",
       "<style scoped>\n",
       "    .dataframe tbody tr th:only-of-type {\n",
       "        vertical-align: middle;\n",
       "    }\n",
       "\n",
       "    .dataframe tbody tr th {\n",
       "        vertical-align: top;\n",
       "    }\n",
       "\n",
       "    .dataframe thead th {\n",
       "        text-align: right;\n",
       "    }\n",
       "</style>\n",
       "<table border=\"1\" class=\"dataframe\">\n",
       "  <thead>\n",
       "    <tr style=\"text-align: right;\">\n",
       "      <th></th>\n",
       "      <th>Country/Region</th>\n",
       "      <th>Confirmed</th>\n",
       "      <th>Recovered</th>\n",
       "      <th>Deaths</th>\n",
       "      <th>Active</th>\n",
       "    </tr>\n",
       "  </thead>\n",
       "  <tbody>\n",
       "    <tr>\n",
       "      <th>0</th>\n",
       "      <td>US</td>\n",
       "      <td>224345948</td>\n",
       "      <td>56353416</td>\n",
       "      <td>11011411</td>\n",
       "      <td>156981121</td>\n",
       "    </tr>\n",
       "  </tbody>\n",
       "</table>\n",
       "</div>"
      ],
      "text/plain": [
       "  Country/Region  Confirmed  Recovered    Deaths     Active\n",
       "0             US  224345948   56353416  11011411  156981121"
      ]
     },
     "execution_count": 46,
     "metadata": {},
     "output_type": "execute_result"
    }
   ],
   "source": [
    "us_cases = df_fgroup[df_fgroup['Country/Region'] == 'US'].groupby('Country/Region')[['Confirmed', 'Recovered', 'Deaths', 'Active']].sum().reset_index()\n",
    "us_cases"
   ]
  },
  {
   "cell_type": "code",
   "execution_count": 47,
   "id": "55e2c463-0652-49f0-a773-03750b8ae505",
   "metadata": {},
   "outputs": [
    {
     "data": {
      "text/plain": [
       "Text(0, 0.5, 'Number of Cases')"
      ]
     },
     "execution_count": 47,
     "metadata": {},
     "output_type": "execute_result"
    },
    {
     "data": {
      "image/png": "[encoded data removed]",
      "text/plain": [
       "<Figure size 1000x600 with 1 Axes>"
      ]
     },
     "metadata": {},
     "output_type": "display_data"
    }
   ],
   "source": [
    "# Set the 'Country/Region' column as the index\n",
    "us_cases.set_index('Country/Region', inplace=True)\n",
    "pp = ['#780000', '#cdb4db','#fb8500', '#06d6a0']\n",
    "# Plot a stacked bar chart\n",
    "ax = us_cases[['Confirmed','Recovered', 'Deaths', 'Active']].plot(kind='bar', stacked=True, figsize=(10, 6),color = pp )\n",
    "\n",
    "# Customize the plot\n",
    "plt.title('COVID-19 Cases in US')\n",
    "plt.xlabel('Country/Region')\n",
    "plt.ylabel('Number of Cases')"
   ]
  },
  {
   "cell_type": "markdown",
   "id": "74e66ec3-6d23-46b9-b8c9-4ec020aaa0e6",
   "metadata": {},
   "source": [
    "## Step:7) Visualizations and Analysis of all cases over the world"
   ]
  },
  {
   "cell_type": "markdown",
   "id": "57195bb2-1ae7-4ff4-b3de-ad573d92c5bd",
   "metadata": {},
   "source": [
    "Creating a visualization out of **merged covid and countrywise dataset** and analysing on it"
   ]
  },
  {
   "cell_type": "code",
   "execution_count": 54,
   "id": "7ccb192b-8107-49c4-a853-aa2e2783ce07",
   "metadata": {},
   "outputs": [
    {
     "data": {
      "text/html": [
       "\n",
       "        <iframe\n",
       "            width=\"800\"\n",
       "            height=\"600\"\n",
       "            src=\"./plotly_figure.html\"\n",
       "            frameborder=\"0\"\n",
       "            allowfullscreen\n",
       "            \n",
       "        ></iframe>\n",
       "        "
      ],
      "text/plain": [
       "<IPython.lib.display.IFrame at 0x240eeb1d7c0>"
      ]
     },
     "execution_count": 54,
     "metadata": {},
     "output_type": "execute_result"
    }
   ],
   "source": [
    "# Visualizing confirmed cases worldwide\n",
    "#grouping country/region wise confirmations\n",
    "confirmed_cases = pd.DataFrame(merged_covcountry.groupby('Country/Region')['Confirmed'].sum())\n",
    "\n",
    "# i have to include country/region to make the 'Country/Region' column more accessible. \n",
    "confirmed_cases['Country/Region'] = confirmed_cases.index\n",
    "df_confirmedcases = confirmed_cases[['Country/Region','Confirmed']]\n",
    "# Creating a gradient color scale\n",
    "color_scale = px.colors.sequential.Reds\n",
    "\n",
    "#plotting\n",
    "fig = px.bar(df_confirmedcases.sort_values('Confirmed',ascending=False)[:20][::-1], #sorting by confirmed column and taking 20 but desc\n",
    "             x='Confirmed',\n",
    "             y='Country/Region',\n",
    "             title='Confirmed Cases Worldwide',\n",
    "             color_continuous_scale=color_scale,# Apply the gradient color scale\n",
    "             color = 'Confirmed',\n",
    "             text='Confirmed', #printing out the Confirmed column where the sum of confirmed cases are prevalent in bars\n",
    "             height=900, \n",
    "             orientation='h')\n",
    "pyo.iplot(fig)\n"
   ]
  },
  {
   "cell_type": "code",
   "execution_count": 61,
   "id": "f2507502-7edd-4114-8772-505d326fa6f3",
   "metadata": {},
   "outputs": [
    {
     "data": {
      "text/html": [
       "\n",
       "        <iframe\n",
       "            width=\"800\"\n",
       "            height=\"600\"\n",
       "            src=\"./plotly_choropleth.html\"\n",
       "            frameborder=\"0\"\n",
       "            allowfullscreen\n",
       "            \n",
       "        ></iframe>\n",
       "        "
      ],
      "text/plain": [
       "<IPython.lib.display.IFrame at 0x240eed4c8f0>"
      ]
     },
     "execution_count": 61,
     "metadata": {},
     "output_type": "execute_result"
    }
   ],
   "source": [
    "\n",
    "\n",
    "def plot_map(df, col, pal):\n",
    "    df = df[df[col] > 0]\n",
    "    fig = px.choropleth(df, locations=\"Country/Region\", locationmode='country names', \n",
    "                  color=col, hover_name=\"Country/Region\", \n",
    "                  title=col, hover_data=[col], color_continuous_scale=pal)\n",
    "    fig.update_layout(coloraxis_showscale=False)\n",
    "    \n",
    "    # Save the figure to an HTML file\n",
    "    fig.write_html('plotly_choropleth.html')\n",
    "    \n",
    "    # Display the HTML file in the notebook\n",
    "    return IFrame(src='./plotly_choropleth.html', width=800, height=600)\n",
    "\n",
    "# Call the function\n",
    "plot_map(merged_covcountry, 'Confirmed', 'Reds')\n",
    "\n"
   ]
  },
  {
   "cell_type": "markdown",
   "id": "0603c72d-3864-4fd5-bebe-2ed421fcc83d",
   "metadata": {},
   "source": [
    "**Visualizations of other target features over the time globally**"
   ]
  },
  {
   "cell_type": "code",
   "execution_count": 62,
   "id": "5a79eba8-d890-4aa5-96be-dcfc50cc5f65",
   "metadata": {},
   "outputs": [
    {
     "data": {
      "text/html": [
       "<div>\n",
       "<style scoped>\n",
       "    .dataframe tbody tr th:only-of-type {\n",
       "        vertical-align: middle;\n",
       "    }\n",
       "\n",
       "    .dataframe tbody tr th {\n",
       "        vertical-align: top;\n",
       "    }\n",
       "\n",
       "    .dataframe thead th {\n",
       "        text-align: right;\n",
       "    }\n",
       "</style>\n",
       "<table border=\"1\" class=\"dataframe\">\n",
       "  <thead>\n",
       "    <tr style=\"text-align: right;\">\n",
       "      <th></th>\n",
       "      <th>Date</th>\n",
       "      <th>Confirmed</th>\n",
       "      <th>Deaths</th>\n",
       "      <th>Recovered</th>\n",
       "      <th>Active</th>\n",
       "    </tr>\n",
       "  </thead>\n",
       "  <tbody>\n",
       "    <tr>\n",
       "      <th>0</th>\n",
       "      <td>2020-01-22</td>\n",
       "      <td>555</td>\n",
       "      <td>17</td>\n",
       "      <td>28</td>\n",
       "      <td>510</td>\n",
       "    </tr>\n",
       "    <tr>\n",
       "      <th>1</th>\n",
       "      <td>2020-01-23</td>\n",
       "      <td>654</td>\n",
       "      <td>18</td>\n",
       "      <td>30</td>\n",
       "      <td>606</td>\n",
       "    </tr>\n",
       "    <tr>\n",
       "      <th>2</th>\n",
       "      <td>2020-01-24</td>\n",
       "      <td>941</td>\n",
       "      <td>26</td>\n",
       "      <td>36</td>\n",
       "      <td>879</td>\n",
       "    </tr>\n",
       "    <tr>\n",
       "      <th>3</th>\n",
       "      <td>2020-01-25</td>\n",
       "      <td>1434</td>\n",
       "      <td>42</td>\n",
       "      <td>39</td>\n",
       "      <td>1353</td>\n",
       "    </tr>\n",
       "    <tr>\n",
       "      <th>4</th>\n",
       "      <td>2020-01-26</td>\n",
       "      <td>2118</td>\n",
       "      <td>56</td>\n",
       "      <td>52</td>\n",
       "      <td>2010</td>\n",
       "    </tr>\n",
       "  </tbody>\n",
       "</table>\n",
       "</div>"
      ],
      "text/plain": [
       "        Date  Confirmed  Deaths  Recovered  Active\n",
       "0 2020-01-22        555      17         28     510\n",
       "1 2020-01-23        654      18         30     606\n",
       "2 2020-01-24        941      26         36     879\n",
       "3 2020-01-25       1434      42         39    1353\n",
       "4 2020-01-26       2118      56         52    2010"
      ]
     },
     "execution_count": 62,
     "metadata": {},
     "output_type": "execute_result"
    }
   ],
   "source": [
    "case_index = df_fgroup.groupby('Date')[['Confirmed','Deaths','Recovered','Active']].sum().reset_index()\n",
    "case_index.head()"
   ]
  },
  {
   "cell_type": "code",
   "execution_count": 70,
   "id": "3d35e8a7-ae48-4e64-ade8-1838d882fde6",
   "metadata": {},
   "outputs": [
    {
     "data": {
      "text/html": [
       "\n",
       "        <iframe\n",
       "            width=\"800\"\n",
       "            height=\"600\"\n",
       "            src=\"./plotly_subplots.html\"\n",
       "            frameborder=\"0\"\n",
       "            allowfullscreen\n",
       "            \n",
       "        ></iframe>\n",
       "        "
      ],
      "text/plain": [
       "<IPython.lib.display.IFrame at 0x240f1b7c530>"
      ]
     },
     "execution_count": 70,
     "metadata": {},
     "output_type": "execute_result"
    }
   ],
   "source": [
    "\n",
    "\n",
    "# Creating subplots of cases that we need to analyze further\n",
    "fig = make_subplots(rows=1, cols=4, subplot_titles=(\"Confirmed\", \"Deaths\", \"Recovered\", \"Active\"))\n",
    "\n",
    "# Using plotly's graph object for each case to show\n",
    "case1 = go.Scatter(\n",
    "    x=case_index['Date'],\n",
    "    y=case_index['Confirmed'],\n",
    "    name=\"Confirmed\",\n",
    "    line_color='#590d22',\n",
    "    mode='lines+markers',\n",
    "    opacity=0.8\n",
    ")\n",
    "\n",
    "case2 = go.Scatter(\n",
    "    x=case_index['Date'],\n",
    "    y=case_index['Deaths'],\n",
    "    name=\"Deaths\",\n",
    "    line_color='#c9184a',\n",
    "    mode='lines+markers',\n",
    "    opacity=0.8\n",
    ")\n",
    "\n",
    "case3 = go.Scatter(\n",
    "    x=case_index['Date'],\n",
    "    y=case_index['Recovered'],\n",
    "    name=\"Recovered\",\n",
    "    mode='lines+markers',\n",
    "    line_color='#ff758f',\n",
    "    opacity=0.8\n",
    ")\n",
    "\n",
    "case4 = go.Scatter(\n",
    "    x=case_index['Date'],\n",
    "    y=case_index['Active'],\n",
    "    name=\"Active\",\n",
    "    line_color='#fff0f3',\n",
    "    mode='lines+markers',\n",
    "    opacity=0.8\n",
    ")\n",
    "\n",
    "# Adding traces to the figure\n",
    "fig.add_trace(case1, 1, 1)\n",
    "fig.add_trace(case2, 1, 2)\n",
    "fig.add_trace(case3, 1, 3)\n",
    "fig.add_trace(case4, 1, 4)\n",
    "fig.update_layout(\n",
    "    title_text='<b>Analysis of Corona spread over time globally</b>',\n",
    "    font=dict(size=14, color='white')  # Adjust the font size, color, and weight\n",
    ")\n",
    "\n",
    "# Save the figure to an HTML file\n",
    "fig.write_html('plotly_subplots.html')\n",
    "\n",
    "# Display the HTML file in the notebook\n",
    "IFrame(src='./plotly_subplots.html', width=800, height=600)\n"
   ]
  },
  {
   "cell_type": "markdown",
   "id": "a08f2143-ea72-4efe-928b-524f770bc9d6",
   "metadata": {},
   "source": [
    "- Finally I'm plotting WHO-continent wise cases "
   ]
  },
  {
   "cell_type": "code",
   "execution_count": 72,
   "id": "8dd3c055-8913-4576-bcea-e313492d4cb6",
   "metadata": {},
   "outputs": [
    {
     "data": {
      "text/html": [
       "\n",
       "        <iframe\n",
       "            width=\"800\"\n",
       "            height=\"600\"\n",
       "            src=\"./plotly_Confirmed.html\"\n",
       "            frameborder=\"0\"\n",
       "            allowfullscreen\n",
       "            \n",
       "        ></iframe>\n",
       "        "
      ],
      "text/plain": [
       "<IPython.lib.display.IFrame at 0x240f1b58830>"
      ]
     },
     "execution_count": 72,
     "metadata": {},
     "output_type": "execute_result"
    }
   ],
   "source": [
    "who = df_country.groupby('WHO Region')[['Confirmed', 'Deaths', 'Recovered', 'Active','New cases', 'Confirmed last week']].sum().reset_index()\n",
    "who['Fatality Rate'] = round((who['Deaths'] / who['Confirmed']) * 100, 2)\n",
    "who['Recovery Rate'] = (who['Recovered'] / who['Confirmed']) * 100\n",
    "\n",
    "who_g = df_fgroup.groupby(['WHO Region', 'Date'])[['Confirmed', 'Deaths', 'Recovered','Active','New cases', 'New deaths']].sum().reset_index()\n",
    "\n",
    "def plot_hbar(col, hover_data=[]):\n",
    "    fig = px.bar(who.sort_values(col), \n",
    "                 x=col,\n",
    "                 y=\"WHO Region\",\n",
    "                 color='WHO Region',  \n",
    "                 text=col,\n",
    "                 orientation='h',\n",
    "                 width=700, \n",
    "                 hover_data=hover_data,\n",
    "                 color_discrete_sequence=color_scale)\n",
    "    \n",
    "    fig.update_layout(title=col,\n",
    "                      xaxis_title=\"\",\n",
    "                      yaxis_title=\"\", \n",
    "                      yaxis_categoryorder='total ascending',\n",
    "                      uniformtext_minsize=8, \n",
    "                      uniformtext_mode='hide')\n",
    "\n",
    "    # Save the figure to an HTML file\n",
    "    fig.write_html(f'plotly_{col}.html')\n",
    "\n",
    "    # Display the HTML file in the notebook\n",
    "    from IPython.display import IFrame\n",
    "    return IFrame(src=f'./plotly_{col}.html', width=800, height=600)\n",
    "\n",
    "# Call the function\n",
    "plot_hbar('Confirmed')\n"
   ]
  },
  {
   "cell_type": "markdown",
   "id": "518d345f-7468-4f44-9b9a-bf6ab6af52da",
   "metadata": {},
   "source": [
    "# <span style=\"color:#0077b6\"> Conclusion<a name=\"conc\"></a> </span>"
   ]
  },
  {
   "cell_type": "markdown",
   "id": "6ba43ce3-62d5-49b4-a497-29b68827e8c7",
   "metadata": {},
   "source": [
    "- **Business Task**\n",
    "\n",
    "The primary business task in this analysis was to gain a deep understanding of the COVID-19 pandemic's impact, both globally and regionally. The analysis encompassed five datasets: `df_country`, `df_covid`, `df_day`, `df_world`, and `df_fgroup`.\n",
    "\n",
    "- **Summary of Insights**\n",
    "\n",
    "  1. Global and Regional Trends: We explored global and regional trends in COVID-19 cases, including confirmed cases, recoveries, deaths, and active cases. This helped us understand the overall scale and impact of the pandemic.\n",
    "\n",
    "  2. Demographics and Health Infrastructure: The df_country dataset provided valuable information about countries' demographics and healthcare infrastructure. This data can be used to correlate healthcare resources with pandemic outcomes.\n",
    "\n",
    "  3. Time-Series Analysis: Using the df_day dataset, we conducted time-series analysis, tracking the progression of cases, recoveries, and deaths over time. This allowed us to identify periods of rapid growth and recovery.\n",
    "\n",
    "  4. WHO Region Analysis: We grouped countries by WHO regions and analyzed key metrics like fatality rate and recovery rate. This provided insights into regional variations in pandemic management.\n",
    "\n",
    "  5. Comparative Analysis: The df_fgroup dataset enabled comparative analysis by classifying countries into specific groups. This allowed us to compare the pandemic's impact on similar nations.\n",
    "\n",
    "  6. Visualization: We used various visualization techniques, including line charts, bar plots, pie charts, and choropleth maps, to present our findings effectively.\n",
    "\n",
    "- **Recommendations and Future Steps**\n",
    "\n",
    "  1. Resource Allocation: Governments and healthcare organizations can use this analysis to allocate resources more effectively, focusing on regions with high case counts and lower recovery rates.\n",
    "\n",
    "  2. Vaccination Strategy: Insights from the analysis can inform vaccination strategies, targeting areas with high transmission rates or low vaccination coverage.\n",
    "\n",
    "  3. Public Awareness: Communicate recovery rates and fatality rates to the public, emphasizing the importance of preventive measures and vaccination.\n",
    "\n",
    "  4. Further Research: Continue monitoring and researching the pandemic, updating the analysis with new data to adapt strategies as the situation evolves.\n",
    "\n",
    "In conclusion, this comprehensive analysis of COVID-19 data provides valuable insights that can guide decision-making at regional and global levels. Understanding the dynamics of the pandemic is crucial in managing its impact on public health and societic.\n",
    "\n"
   ]
  },
  {
   "cell_type": "code",
   "execution_count": null,
   "id": "f3b25b24-94f8-4301-8c89-e9bc77729492",
   "metadata": {},
   "outputs": [],
   "source": []
  }
 ],
 "metadata": {
  "kernelspec": {
   "display_name": "Python 3 (ipykernel)",
   "language": "python",
   "name": "python3"
  },
  "language_info": {
   "codemirror_mode": {
    "name": "ipython",
    "version": 3
   },
   "file_extension": ".py",
   "mimetype": "text/x-python",
   "name": "python",
   "nbconvert_exporter": "python",
   "pygments_lexer": "ipython3",
   "version": "3.11.5"
  }
 },
 "nbformat": 4,
 "nbformat_minor": 5
}
